{
  "cells": [
    {
      "cell_type": "markdown",
      "metadata": {
        "id": "EKhCfNnv_Y9V"
      },
      "source": [
        "## Evaluating Finetuned Model\n",
        "\n",
        "In this section, we demonstrate how to evaluate the previously finetuned model."
      ]
    },
    {
      "cell_type": "code",
      "source": [
        "! pip install transformers comet_ml sentencepiece opik --quiet"
      ],
      "metadata": {
        "id": "yVMz0DFg_bVN",
        "colab": {
          "base_uri": "https://localhost:8080/"
        },
        "outputId": "a6e62f66-a8f1-441f-bde8-a9add6a2a692"
      },
      "execution_count": 8,
      "outputs": [
        {
          "output_type": "stream",
          "name": "stdout",
          "text": [
            "\u001b[2K     \u001b[90m━━━━━━━━━━━━━━━━━━━━━━━━━━━━━━━━━━━━━━━━\u001b[0m \u001b[32m149.3/149.3 kB\u001b[0m \u001b[31m5.9 MB/s\u001b[0m eta \u001b[36m0:00:00\u001b[0m\n",
            "\u001b[2K   \u001b[90m━━━━━━━━━━━━━━━━━━━━━━━━━━━━━━━━━━━━━━━━\u001b[0m \u001b[32m416.8/416.8 kB\u001b[0m \u001b[31m15.7 MB/s\u001b[0m eta \u001b[36m0:00:00\u001b[0m\n",
            "\u001b[2K   \u001b[90m━━━━━━━━━━━━━━━━━━━━━━━━━━━━━━━━━━━━━━━━\u001b[0m \u001b[32m68.6/68.6 kB\u001b[0m \u001b[31m6.4 MB/s\u001b[0m eta \u001b[36m0:00:00\u001b[0m\n",
            "\u001b[2K   \u001b[90m━━━━━━━━━━━━━━━━━━━━━━━━━━━━━━━━━━━━━━━━\u001b[0m \u001b[32m161.7/161.7 kB\u001b[0m \u001b[31m13.9 MB/s\u001b[0m eta \u001b[36m0:00:00\u001b[0m\n",
            "\u001b[2K   \u001b[90m━━━━━━━━━━━━━━━━━━━━━━━━━━━━━━━━━━━━━━━━\u001b[0m \u001b[32m6.9/6.9 MB\u001b[0m \u001b[31m41.2 MB/s\u001b[0m eta \u001b[36m0:00:00\u001b[0m\n",
            "\u001b[2K   \u001b[90m━━━━━━━━━━━━━━━━━━━━━━━━━━━━━━━━━━━━━━━━\u001b[0m \u001b[32m567.4/567.4 kB\u001b[0m \u001b[31m23.8 MB/s\u001b[0m eta \u001b[36m0:00:00\u001b[0m\n",
            "\u001b[2K   \u001b[90m━━━━━━━━━━━━━━━━━━━━━━━━━━━━━━━━━━━━━━━━\u001b[0m \u001b[32m3.1/3.1 MB\u001b[0m \u001b[31m40.7 MB/s\u001b[0m eta \u001b[36m0:00:00\u001b[0m\n",
            "\u001b[2K   \u001b[90m━━━━━━━━━━━━━━━━━━━━━━━━━━━━━━━━━━━━━━━━\u001b[0m \u001b[32m1.2/1.2 MB\u001b[0m \u001b[31m28.8 MB/s\u001b[0m eta \u001b[36m0:00:00\u001b[0m\n",
            "\u001b[2K   \u001b[90m━━━━━━━━━━━━━━━━━━━━━━━━━━━━━━━━━━━━━━━━\u001b[0m \u001b[32m65.4/65.4 kB\u001b[0m \u001b[31m6.3 MB/s\u001b[0m eta \u001b[36m0:00:00\u001b[0m\n",
            "\u001b[?25h"
          ]
        }
      ]
    },
    {
      "cell_type": "code",
      "execution_count": 10,
      "metadata": {
        "id": "md_zRyNd_Y9W",
        "outputId": "4d3d31d6-bad5-44a3-9dc2-e69ce364933a",
        "colab": {
          "base_uri": "https://localhost:8080/"
        }
      },
      "outputs": [
        {
          "output_type": "stream",
          "name": "stderr",
          "text": [
            "OPIK: Your Opik API key is available in your account settings, can be found at https://www.comet.com/api/my/settings/ for Opik cloud\n"
          ]
        },
        {
          "name": "stdout",
          "output_type": "stream",
          "text": [
            "Please enter your Opik API key:··········\n",
            "Do you want to use \"michaworku\" workspace? (Y/n)y\n"
          ]
        },
        {
          "output_type": "stream",
          "name": "stderr",
          "text": [
            "OPIK: Configuration saved to file: /root/.opik.config\n"
          ]
        }
      ],
      "source": [
        "import os\n",
        "from transformers import AutoModelForCausalLM\n",
        "from transformers import AutoTokenizer, AutoModelForSeq2SeqLM, Seq2SeqTrainingArguments, Seq2SeqTrainer\n",
        "import transformers\n",
        "import pandas as pd\n",
        "import comet_ml\n",
        "import opik\n",
        "from google.colab import userdata\n",
        "\n",
        "COMET_WORKSPACE =userdata.get(\"COMET_WORKSPACE\")\n",
        "COMET_API_KEY = userdata.get(\"COMET_API_KEY\")\n",
        "\n",
        "opik.configure()\n",
        "\n",
        "transformers.set_seed(35)"
      ]
    },
    {
      "cell_type": "markdown",
      "metadata": {
        "id": "jqKpzb85_Y9X"
      },
      "source": [
        "### Load the Finetuned Model\n",
        "\n",
        "The first step is to load the finetuned model. You can load the model different ways, but in this example, we download our model and tokenizer from Comet (we stored them there in the last assignment), and then use Huggingface's Transformers library  to load the pretrained model and tokenizer."
      ]
    },
    {
      "cell_type": "code",
      "source": [
        "# Download model from registry:\n",
        "\n",
        "from comet_ml import API\n",
        "\n",
        "api = API(api_key=COMET_API_KEY)\n",
        "\n",
        "# model name\n",
        "model_name = \"Emotion-T5-Base\"\n",
        "\n",
        "#get the Model object\n",
        "model = api.get_model(workspace=COMET_WORKSPACE, model_name=model_name)\n",
        "\n",
        "# Download a Registry Model:\n",
        "model.download(\"1.0.0\", \"./deploy\", expand=True)"
      ],
      "metadata": {
        "id": "wps49cU9WMYL",
        "colab": {
          "base_uri": "https://localhost:8080/"
        },
        "outputId": "a5492801-7737-4407-93d1-283e3780f13e"
      },
      "execution_count": 3,
      "outputs": [
        {
          "output_type": "stream",
          "name": "stderr",
          "text": [
            "\u001b[1;38;5;39mCOMET INFO:\u001b[0m Remote Model 'michaworku/Emotion-T5-Base:1.0.0' download has been started asynchronously.\n",
            "\u001b[1;38;5;39mCOMET INFO:\u001b[0m Still downloading 23 file(s), remaining 3.69 GB/3.69 GB\n",
            "\u001b[1;38;5;39mCOMET INFO:\u001b[0m Still downloading 3 file(s), remaining 2.91 GB/3.69 GB, Throughput 53.53 MB/s, ETA ~56s\n",
            "\u001b[1;38;5;39mCOMET INFO:\u001b[0m Still downloading 3 file(s), remaining 1.99 GB/3.69 GB, Throughput 62.58 MB/s, ETA ~33s\n",
            "\u001b[1;38;5;39mCOMET INFO:\u001b[0m Still downloading 3 file(s), remaining 1.03 GB/3.69 GB, Throughput 65.49 MB/s, ETA ~17s\n",
            "\u001b[1;38;5;39mCOMET INFO:\u001b[0m Still downloading 1 file(s), remaining 635.10 MB/3.69 GB, Throughput 27.92 MB/s, ETA ~23s\n",
            "\u001b[1;38;5;39mCOMET INFO:\u001b[0m Still downloading 1 file(s), remaining 290.10 MB/3.69 GB, Throughput 22.99 MB/s, ETA ~13s\n",
            "\u001b[1;38;5;39mCOMET INFO:\u001b[0m Remote Model 'michaworku/Emotion-T5-Base:1.0.0' has been successfully downloaded.\n",
            "\u001b[1;38;5;39mCOMET INFO:\u001b[0m Downloaded asset files is in './deploy' folder.\n"
          ]
        }
      ]
    },
    {
      "cell_type": "markdown",
      "source": [
        "The `model.download()` method will download not only the model file, but all the related assets we logged, meaning we can point Huggingface's `from_pretrained()` method directly at our download folder and everything will just work."
      ],
      "metadata": {
        "id": "6HVwiQRJWPfc"
      }
    },
    {
      "cell_type": "code",
      "execution_count": 4,
      "metadata": {
        "id": "4jGejoru_Y9Y",
        "colab": {
          "base_uri": "https://localhost:8080/"
        },
        "outputId": "ebb4cc85-976a-45a5-ad26-38ad5eebdb1c"
      },
      "outputs": [
        {
          "output_type": "stream",
          "name": "stderr",
          "text": [
            "You set `add_prefix_space`. The tokenizer needs to be converted from the slow tokenizers\n"
          ]
        }
      ],
      "source": [
        "# load model and tokenizer\n",
        "model = AutoModelForSeq2SeqLM.from_pretrained(\"./deploy/checkpoint-7\")\n",
        "tokenizer = AutoTokenizer.from_pretrained(\"./deploy/checkpoint-7/\")"
      ]
    },
    {
      "cell_type": "markdown",
      "metadata": {
        "id": "iwFUZU38_Y9Y"
      },
      "source": [
        "### Load the Data to Evaluate\n",
        "\n",
        "The next step is to load the evaluation dataset. We are reloading the dataset from the previous notebook."
      ]
    },
    {
      "cell_type": "code",
      "execution_count": 5,
      "metadata": {
        "id": "NgKH5AxA_Y9Y"
      },
      "outputs": [],
      "source": [
        "emotion_dataset_val_temp = pd.read_json(path_or_buf=\"https://raw.githubusercontent.com/comet-ml/comet-llmops/main/data/merged_training_sample_prepared_valid.jsonl\", lines=True)\n",
        "emotion_dataset_test = emotion_dataset_val_temp.iloc[int(len(emotion_dataset_val_temp)/2):]"
      ]
    },
    {
      "cell_type": "code",
      "execution_count": 6,
      "metadata": {
        "id": "KjnMtBDQ_Y9Y",
        "outputId": "296121a5-3e1e-4635-b627-28548e7e3e5a",
        "colab": {
          "base_uri": "https://localhost:8080/"
        }
      },
      "outputs": [
        {
          "output_type": "execute_result",
          "data": {
            "text/plain": [
              "['i feel very very disturbed right now i dont know how to say this but guess i couldnt sleep tonight just to think about this about him\\n\\n###\\n\\n',\n",
              " 'i feel make them the most dangerous and their level of annoyance is what gives them high priority\\n\\n###\\n\\n',\n",
              " 'i can feel sympathetic joy for my boyfriend and colleagues the latter being like times harder than the former\\n\\n###\\n\\n',\n",
              " 'i found these emails from scott dale and just reading them frusterated me so much that i feel the need to post them and show the world what a neurotic freak he was is\\n\\n###\\n\\n',\n",
              " 'i won t lie and say there isn t a part of me that still feels insulted by it\\n\\n###\\n\\n']"
            ]
          },
          "metadata": {},
          "execution_count": 6
        }
      ],
      "source": [
        "emotion_dataset_test.head().prompt.tolist()"
      ]
    },
    {
      "cell_type": "markdown",
      "metadata": {
        "id": "IScMHEuZ_Y9Y"
      },
      "source": [
        "### Evaluate Finetuned Emotion Classifier\n",
        "\n",
        "Evaluate different models and prompting techniques and log results when prompting the fine-tuned model. As a take-how exercise feel free to log results with few-shot and one-shot prompting using gpt-3.5-turbo. This way it will be possible to compare the finetuned model with other high-performing models.\n"
      ]
    },
    {
      "cell_type": "code",
      "execution_count": 11,
      "metadata": {
        "id": "kYprKXo2_Y9Z",
        "outputId": "6f309ba5-483b-49cb-e686-fadc03beda98",
        "colab": {
          "base_uri": "https://localhost:8080/"
        }
      },
      "outputs": [
        {
          "output_type": "stream",
          "name": "stderr",
          "text": [
            "\u001b[1;38;5;39mCOMET INFO:\u001b[0m An experiment with the same configuration options is already running and will be reused.\n"
          ]
        }
      ],
      "source": [
        "# for comet logging\n",
        "comet_ml.start(api_key=COMET_API_KEY,workspace=COMET_WORKSPACE,project=\"emotion-evaluation\")\n",
        "\n",
        "# prompt prefix\n",
        "prefix = \"Classify the provided piece of text into one of the following emotion labels.\\n\\nEmotion labels: ['anger', 'fear', 'joy', 'love', 'sadness', 'surprise']\\n\\nText:\"\n",
        "\n",
        "# prepare prompts\n",
        "prompts = [{\"prompt\": row.prompt.strip(\"\\n\\n###\\n\\n\") + \"\\n\\n\" + \"Emotion output:\", \"completion\": row.completion.strip(\"\\n\").strip(\" \")} for index, row in emotion_dataset_test.iterrows()]\n",
        "\n",
        "# expected results to log\n",
        "actual_completions = [prompt[\"completion\"] for prompt in prompts]\n",
        "\n",
        "# the results from the fine-tuned model\n",
        "finetuned_completions = []\n",
        "\n",
        "for prompt in prompts:\n",
        "\n",
        "    # finetuned model outputs\n",
        "    input_ids = tokenizer.encode(prefix + prompt[\"prompt\"], return_tensors=\"pt\")\n",
        "    output = model.generate(input_ids, do_sample=True, max_new_tokens=1, temperature=0.1)\n",
        "    output_text = tokenizer.decode(output[0], skip_special_tokens=True).strip(\"<pad>\").strip(\" \")\n",
        "    finetuned_completions.append(output_text)\n",
        "\n",
        "    # log the prompts\n",
        "    opik.Prompt(\n",
        "        name='Emotion-T5-Base',\n",
        "        prompt = prefix + prompt[\"prompt\"]\n",
        "    )\n",
        "    # comet_llm.log_prompt(\n",
        "    #     prompt = prefix + prompt[\"prompt\"],\n",
        "    #     tags = [\"flan-t5-base\", \"fine-tuned\"],\n",
        "    #     metadata = {\n",
        "    #         \"model_name\": \"flan-t5-base\",\n",
        "    #         \"temperature\": 0.1,\n",
        "    #         \"expected_output\": prompt[\"completion\"],\n",
        "    #     },\n",
        "    #     output = output_text\n",
        "    # )\n",
        "\n",
        "    # exercise: log zero-shot and few-shot results with GPT-3.5-Turbo and GPT-4 and compare with your fine-tuned model\n"
      ]
    },
    {
      "cell_type": "markdown",
      "metadata": {
        "id": "IWr6Gu6c_Y9Z"
      },
      "source": [
        "### Finetuned Model - Confusion Matrix\n",
        "\n",
        "Prepare a confusion matrix to better understand the performance of the fine-tuned model on the multi-label classification task."
      ]
    },
    {
      "cell_type": "code",
      "execution_count": 15,
      "metadata": {
        "id": "lpO7aIbr_Y9Z",
        "outputId": "8852006a-300a-42fe-fe06-52f852cc6f9a",
        "colab": {
          "base_uri": "https://localhost:8080/",
          "height": 946
        }
      },
      "outputs": [
        {
          "output_type": "stream",
          "name": "stdout",
          "text": [
            "finetuned completions ['sadness', 'nger', 'joy', 'nger', 'nger', 'joy', 'nger', 'surprise', 'nger', 'nger', 'nger', 'sadness', 'joy', 'fear', 'joy', 'fear', 'fear', 'sadness', 'fear', 'love', 'nger', 'sadness', 'nger', 'surprise', 'nger', 'joy', 'sadness', 'nger', 'surprise', 'sadness', 'surprise', 'sadness', 'joy', 'nger', 'surprise', 'surprise', 'surprise', 'surprise', 'nger', 'sadness', 'nger', 'surprise', 'sadness', 'nger', 'surprise', 'sadness', 'sadness', 'fear', 'joy', 'fear', 'nger', 'sadness', 'joy', 'nger', 'nger', 'nger', 'nger', 'sadness', 'fear', 'nger']\n",
            "finetuned completions ['sadness', 'anger', 'joy', 'anger', 'anger', 'joy', 'anger', 'surprise', 'anger', 'anger', 'anger', 'sadness', 'joy', 'fear', 'joy', 'fear', 'fear', 'sadness', 'fear', 'love', 'anger', 'sadness', 'anger', 'surprise', 'anger', 'joy', 'sadness', 'anger', 'surprise', 'sadness', 'surprise', 'sadness', 'joy', 'anger', 'surprise', 'surprise', 'surprise', 'surprise', 'anger', 'sadness', 'anger', 'surprise', 'sadness', 'anger', 'surprise', 'sadness', 'sadness', 'fear', 'joy', 'fear', 'anger', 'sadness', 'joy', 'anger', 'anger', 'anger', 'anger', 'sadness', 'fear', 'anger']\n"
          ]
        },
        {
          "output_type": "execute_result",
          "data": {
            "text/plain": [
              "([<matplotlib.axis.YTick at 0x78c490239ad0>,\n",
              "  <matplotlib.axis.YTick at 0x78c48de4a9d0>,\n",
              "  <matplotlib.axis.YTick at 0x78c48de3a150>,\n",
              "  <matplotlib.axis.YTick at 0x78c48de3a6d0>,\n",
              "  <matplotlib.axis.YTick at 0x78c48ddd6510>,\n",
              "  <matplotlib.axis.YTick at 0x78c48dddbe90>],\n",
              " [Text(0, 0, 'anger'),\n",
              "  Text(0, 1, 'fear'),\n",
              "  Text(0, 2, 'joy'),\n",
              "  Text(0, 3, 'love'),\n",
              "  Text(0, 4, 'sadness'),\n",
              "  Text(0, 5, 'surprise')])"
            ]
          },
          "metadata": {},
          "execution_count": 15
        },
        {
          "output_type": "display_data",
          "data": {
            "text/plain": [
              "<Figure size 800x800 with 2 Axes>"
            ],
            "image/png": "[encoded data removed]"
          },
          "metadata": {}
        }
      ],
      "source": [
        "# confusion matrix (logged to experiments as well)\n",
        "\n",
        "from sklearn.metrics import confusion_matrix\n",
        "import seaborn as sns\n",
        "import matplotlib.pyplot as plt\n",
        "\n",
        "# map completion labels to integers\n",
        "completion_map = {\n",
        "    \"anger\": 0,\n",
        "    \"fear\": 1,\n",
        "    \"joy\": 2,\n",
        "    \"love\": 3,\n",
        "    \"sadness\": 4,\n",
        "    \"surprise\": 5\n",
        "}\n",
        "\n",
        "# mapper back to string labels\n",
        "completion_map_string = {\n",
        "    0: \"anger\",\n",
        "    1: \"fear\",\n",
        "    2: \"joy\",\n",
        "    3: \"love\",\n",
        "    4: \"sadness\",\n",
        "    5: \"surprise\"\n",
        "}\n",
        "print(\"finetuned completions\", finetuned_completions)\n",
        "actual_completions_int = [completion_map[completion] for completion in actual_completions]\n",
        "finetuned_completions = [\"anger\" if completion == 'nger' else completion for completion in finetuned_completions]\n",
        "print(\"finetuned completions\", finetuned_completions)\n",
        "finetuned_completions_int = [1 if completion == \"nightmare\" else completion_map[completion] for completion in finetuned_completions]\n",
        "\n",
        "cm = confusion_matrix(actual_completions_int, finetuned_completions_int)\n",
        "\n",
        "# plot confusion matrix\n",
        "plt.figure(figsize=(8, 8))\n",
        "sns.heatmap(cm, annot=True, fmt=\".0f\", linewidths=0.5, square=True, cmap=\"Blues_r\")\n",
        "\n",
        "# add emotion labels to confusion matrix\n",
        "plt.ylabel(\"Actual label\")\n",
        "plt.xlabel(\"Predicted label\")\n",
        "\n",
        "# annotate the confusion matrix with completion labels\n",
        "tick_marks = [i for i in range(len(completion_map_string))]\n",
        "plt.xticks(tick_marks, list(completion_map_string.values()), rotation=\"vertical\")\n",
        "plt.yticks(tick_marks, list(completion_map_string.values()), rotation=\"horizontal\")"
      ]
    },
    {
      "cell_type": "markdown",
      "metadata": {
        "id": "1VPZdrm9_Y9a"
      },
      "source": [
        "### Saving Confusion Matrix\n",
        "\n",
        "The code below saves the confusion matrix to the selected Comet experiment. You can obtained the experiment key from Comet's experiment dashboard.\n",
        "\n",
        "Make sure to change the experiment key to your own experiment key. Refer to the video lecture or [Comet's documentation](https://www.comet.com/docs/v2/api-and-sdk/python-sdk/reference/ExistingExperiment/#existingexperimentlog_code) for how to locate the experiment key for your experiment."
      ]
    },
    {
      "cell_type": "code",
      "execution_count": 17,
      "metadata": {
        "id": "nm2v5lBK_Y9a",
        "outputId": "a12cdd73-c92e-499b-db3b-3b12fea78a18",
        "colab": {
          "base_uri": "https://localhost:8080/"
        }
      },
      "outputs": [
        {
          "output_type": "stream",
          "name": "stderr",
          "text": [
            "\u001b[1;38;5;214mCOMET WARNING:\u001b[0m To get all data logged automatically, import comet_ml before the following modules: torch, keras, sklearn, tensorflow.\n",
            "\u001b[1;38;5;214mCOMET WARNING:\u001b[0m As you are running in a Jupyter environment, you will need to call `experiment.end()` when finished to ensure all metrics and code are logged before exiting.\n",
            "\u001b[1;38;5;39mCOMET INFO:\u001b[0m Experiment is live on comet.com https://www.comet.com/michaworku/emotion-evaluation/12a0de96ffb04ff9b80bd124aacbd4f0\n",
            "\n"
          ]
        },
        {
          "output_type": "execute_result",
          "data": {
            "text/plain": [
              "{'web': 'https://www.comet.com/api/asset/download?assetId=f64e61a871b34c63a25160fcb9d03ec2&experimentKey=12a0de96ffb04ff9b80bd124aacbd4f0',\n",
              " 'api': 'https://www.comet.com/api/rest/v2/experiment/asset/get-asset?assetId=f64e61a871b34c63a25160fcb9d03ec2&experimentKey=12a0de96ffb04ff9b80bd124aacbd4f0',\n",
              " 'assetId': 'f64e61a871b34c63a25160fcb9d03ec2'}"
            ]
          },
          "metadata": {},
          "execution_count": 17
        }
      ],
      "source": [
        "from comet_ml import ExistingExperiment\n",
        "\n",
        "experiment = ExistingExperiment(api_key=COMET_API_KEY, previous_experiment=\"12a0de96ffb04ff9b80bd124aacbd4f0\")\n",
        "experiment.log_confusion_matrix(actual_completions_int, finetuned_completions_int, labels=list(completion_map_string.values()))"
      ]
    }
  ],
  "metadata": {
    "kernelspec": {
      "display_name": "Python 3",
      "name": "python3"
    },
    "language_info": {
      "codemirror_mode": {
        "name": "ipython",
        "version": 3
      },
      "file_extension": ".py",
      "mimetype": "text/x-python",
      "name": "python",
      "nbconvert_exporter": "python",
      "pygments_lexer": "ipython3",
      "version": "3.9.17"
    },
    "orig_nbformat": 4,
    "colab": {
      "provenance": [],
      "gpuType": "T4"
    },
    "accelerator": "GPU"
  },
  "nbformat": 4,
  "nbformat_minor": 0
}