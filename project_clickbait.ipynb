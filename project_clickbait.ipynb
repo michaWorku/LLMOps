{
  "cells": [
    {
      "cell_type": "markdown",
      "metadata": {
        "id": "s_fflEcIBUPK"
      },
      "source": [
        "## Project - LLM-Powered Clickbait Detector\n",
        "\n",
        "Below are the instructions for the hands-on project explain in the video lecture. The goal is to build an LLM-powered clickbait detector:\n",
        "\n",
        "Part 1: Design a prompt/chain that detects if an article is clickbait or not based on their headline. We have provided the article headlines along with their corresponding labels below. The first task is to convert those examples into a dataset. You will need to specify the instructions and the criteria for what a clickbait is in your prompt.\n",
        "\n",
        "Part 2: Use a moderation tool (e.g., OpenAI moderation APIs) to also classify whether the news articles contain harmful information or not. You also need to define what safe or unsafe is in your prompt. Feel free to use demonstrations or any of the approaches we discussed in the course.\n",
        "\n",
        "Part 3: Experiment with GPT-3.5-Turbo for this task and log prompt + results using Comet's prompting tools. Use tags to label whether articles are safe/unsafe and clickbait/not clickbait. Use CoT, few-shot and zero-shot prompting techniques and compare performance.\n",
        "\n",
        "Part 4: In the end, the goal should be to create a tagging system to label a set of articles as either safe/unsafe and clickbait/not clickbait. If the headline is unsafe or a clickbait, use GPT-3.5-Turbo or GPT-4 to rewrite the article as safe and that it doesn't contain clickbait. You can also try to log the results to Comet to properly debug and evaluate the results.\n",
        "\n",
        "Part 5 (Bonus): Consider fine-tuning a small model like Flan-T5-Base in case performance is not satisfactory for any of the components you have built above. Note that this will require you to annotate datasets for the task and require a lot more work. You can use the same format we used previously for our emotion classification use case. Make sure to leverage the experiment management tools and prompting tools discussed in the course to accelerate experimentation and development."
      ]
    },
    {
      "cell_type": "markdown",
      "metadata": {
        "id": "mYqCn1ASBUPM"
      },
      "source": [
        "---"
      ]
    },
    {
      "cell_type": "markdown",
      "metadata": {
        "id": "lWiBLwU-BUPM"
      },
      "source": [
        "#### Headline examples and their categories\n",
        "\n",
        "Feel free to add more headlines to the list\n",
        "\n",
        "```\n",
        "\"This celebrity's diet secret will SHOCK you!\" (Clickbait)\n",
        "\"You won't believe what happened next – video inside!\" (Clickbait)\n",
        "\"Is the moon actually made of cheese? The truth revealed!\" (Clickbait)\n",
        "\"Doctors are stunned by this one weird trick to lose weight!\" (Clickbait)\n",
        "\"10 facts about your favorite show – Number 7 will blow your mind!\" (Clickbait)\n",
        "\"NASA to Launch New Mars Rover Next Month.\" (Non-Clickbait)\n",
        "\"Federal Reserve Increases Interest Rates by 0.5%.\" (Non-Clickbait)\n",
        "\"Recent Studies Show Coffee May Have Health Benefits.\" (Non-Clickbait)\n",
        "\"A Comprehensive Review of the Latest Smartphone Models.\" (Non-Clickbait)\n",
        "\"UN Climate Summit to Begin in Paris Next Week.\" (Non-Clickbait)\n",
        "\"How to Make Homemade Explosives!\" (Unsafe)\n",
        "\"The Secret Art of Digital Hacking – A Guide!\" (Unsafe)\n",
        "\"10 Easy Ways to Commit Fraud and Get Rich Quick!\" (Unsafe)\n",
        "\"Why Vaccines are the Biggest Scam in Medical History!\" (Unsafe) (Note: This is a false and potentially harmful claim)\n",
        "\"Join the Underground Rebellion Against Government Control!\" (Unsafe)\n",
        "\"10 celebrities who hate each other – Number 5 will make you gasp!\" (Clickbait & Potentially Unsafe)\n",
        "\"Experts reveal the truth about eating raw meat.\" (Non-Clickbait but Potentially Unsafe if misinterpreted)\n",
        "\"The hidden dangers of everyday items in your home!\" (Clickbait & Potentially Unsafe)\n",
        "\"Scientists discover groundbreaking method to cure all diseases!\" (Clickbait) (Note: This is a misleading claim)\n",
        "\"The Untold Truth About the World's Secret Societies!\" (Clickbait & Potentially Unsafe)\n",
        "```"
      ]
    },
    {
      "cell_type": "markdown",
      "source": [
        "# Part 1 Basic Prompt Design to Detect Clickbait\n",
        "Design a prompt/chain that detects if an article is clickbait or not based on their headline. We have provided the article headlines along with their corresponding labels below. The first task is to convert those examples into a dataset. You will need to specify the instructions and the criteria for what a clickbait is in your prompt."
      ],
      "metadata": {
        "id": "_7uQgnjxeeYO"
      }
    },
    {
      "cell_type": "code",
      "execution_count": null,
      "metadata": {
        "id": "vfJ0nQmUBUPN"
      },
      "outputs": [],
      "source": [
        "! pip install comet_ml opik openai --quite"
      ]
    },
    {
      "cell_type": "code",
      "source": [
        "# libraries\n",
        "import os\n",
        "from openai import OpenAI\n",
        "import comet_ml\n",
        "import opik\n",
        "from dotenv import load_dotenv\n",
        "\n",
        "#API configuration\n",
        "OPENAI_API_KEY = os.getenv(\"OPENAI_API_KEY\")\n",
        "COMET_API_KEY = os.getenv(\"COMET_API_KEY\")\n",
        "COMET_WORKSPACE = os.getenv(\"COMET_WORKSPACE\")\n",
        "\n",
        "client = OpenAI(api_key = OPEN_AI_API_KEY)\n",
        "opik.config()\n",
        "comet_ml.start(api_key=COMET_API_KEY, workspace=COMET_WORKSPACE, project_name=\"clickbite-detector\")"
      ],
      "metadata": {
        "id": "qqqTB6q8fqq5"
      },
      "execution_count": null,
      "outputs": []
    },
    {
      "cell_type": "code",
      "source": [
        "# completion function\n",
        "def get_completion(messages, model=\"gpt-4o\", temperature=0, max_tokens=300):\n",
        "    response = client.chat.completions.create(\n",
        "        model=model,\n",
        "        messages=messages,\n",
        "        temperature=temperature,\n",
        "        max_tokens=max_tokens\n",
        "    )\n",
        "    return response.choices[0].message[\"content\"]"
      ],
      "metadata": {
        "id": "nIT79SQjgb4P"
      },
      "execution_count": null,
      "outputs": []
    },
    {
      "cell_type": "markdown",
      "source": [
        "### Headline examples and their categories\n",
        "Feel free to add more headlines to the list"
      ],
      "metadata": {
        "id": "g8Oy1HUzhRtv"
      }
    },
    {
      "cell_type": "code",
      "source": [
        "headlines = '''\n",
        "\"This celebrity's diet secret will SHOCK you!\" (Clickbait)\n",
        "\"You won't believe what happened next – video inside!\" (Clickbait)\n",
        "\"Is the moon actually made of cheese? The truth revealed!\" (Clickbait)\n",
        "\"Doctors are stunned by this one weird trick to lose weight!\" (Clickbait)\n",
        "\"10 facts about your favorite show – Number 7 will blow your mind!\" (Clickbait)\n",
        "\"NASA to Launch New Mars Rover Next Month.\" (Non-Clickbait)\n",
        "\"Federal Reserve Increases Interest Rates by 0.5%.\" (Non-Clickbait)\n",
        "\"Recent Studies Show Coffee May Have Health Benefits.\" (Non-Clickbait)\n",
        "\"A Comprehensive Review of the Latest Smartphone Models.\" (Non-Clickbait)\n",
        "\"UN Climate Summit to Begin in Paris Next Week.\" (Non-Clickbait)\n",
        "\"How to Make Homemade Explosives!\" (Unsafe)\n",
        "\"The Secret Art of Digital Hacking – A Guide!\" (Unsafe)\n",
        "\"10 Easy Ways to Commit Fraud and Get Rich Quick!\" (Unsafe)\n",
        "\"Why Vaccines are the Biggest Scam in Medical History!\" (Unsafe) (Note: This is a false and potentially harmful claim)\n",
        "\"Join the Underground Rebellion Against Government Control!\" (Unsafe)\n",
        "\"10 celebrities who hate each other – Number 5 will make you gasp!\" (Clickbait & Potentially Unsafe)\n",
        "\"Experts reveal the truth about eating raw meat.\" (Non-Clickbait but Potentially Unsafe if misinterpreted)\n",
        "\"The hidden dangers of everyday items in your home!\" (Clickbait & Potentially Unsafe)\n",
        "\"Scientists discover groundbreaking method to cure all diseases!\" (Clickbait) (Note: This is a misleading claim)\n",
        "\"The Untold Truth About the World's Secret Societies!\" (Clickbait & Potentially Unsafe)\n",
        "'''"
      ],
      "metadata": {
        "id": "Ty-b4__bhhEX"
      },
      "execution_count": null,
      "outputs": []
    },
    {
      "cell_type": "markdown",
      "source": [
        "### Create a Prompt to detect if the text/headline is Clickbait or Not!"
      ],
      "metadata": {
        "id": "0Ylo_3XFhoBY"
      }
    },
    {
      "cell_type": "code",
      "source": [
        "prompt = \"\"\"\n",
        "Your task is to detect an input text/headline (delimited by ```) as either Clickbait or Non-Clickbait.\n",
        "Clickbait is often deceptive, misleading, or sensationalized, and can include exaggerated claims or missing key information.\n",
        "\n",
        "Text: {user_input}\n",
        "Output:\n",
        "\"\"\""
      ],
      "metadata": {
        "id": "o3KbmbH-h0pw"
      },
      "execution_count": null,
      "outputs": []
    },
    {
      "cell_type": "code",
      "source": [
        "def get_predictions(prompt, user_input):\n",
        "    message = [\n",
        "        {\n",
        "            \"role\": \"user\",\n",
        "            \"content\": prompt.format(user_input=f\"```{user_input}```\")\n",
        "        }\n",
        "    ]\n",
        "    return get_completion(message)"
      ],
      "metadata": {
        "id": "PoPz1AZkh-pS"
      },
      "execution_count": null,
      "outputs": []
    },
    {
      "cell_type": "code",
      "source": [
        "user_input_list_1 = [\n",
        "    (\"35 Celebs Who Knew Each Other Before They Were Famous\", \"Clickbait\"),\n",
        "    (\"16 Important Questions Millennials Have For Gen Z’ers\", \"Clickbait\"),\n",
        "    (\"Inside Day Cares, Post-Covid\", \"Non-Clickbait\"),\n",
        "    (\"Rethinking the Traditional Police Model\", \"Non-Clickbait\"),\n",
        "    (\"Casa Dani, From a Michelin Chef, to Open in Manhattan West\", \"Non-Clickbait\"),\n",
        "    (\"This Facebook Group Is Dedicated To Crappy Wildlife Photos That Are So Bad They’re Good (40 New Pics)\", \"Clickbait\")\n",
        "]"
      ],
      "metadata": {
        "id": "A_b5rO6xiK7s"
      },
      "execution_count": null,
      "outputs": []
    },
    {
      "cell_type": "code",
      "source": [
        "user_input_list_2 = [\n",
        "    (\"NASA to Launch New Mars Rover Next Month.\", \"Non-Clickbait\"),\n",
        "    (\"Federal Reserve Increases Interest Rates by 0.5%.\", \"Non-Clickbait\"),\n",
        "    (\"10 celebrities who hate each other – Number 5 will make you gasp!\", \"Clickbait\"),\n",
        "    (\"Experts reveal the truth about eating raw meat.\", \"Non-Clickbait\"),\n",
        "    (\"The hidden dangers of everyday items in your home!\", \"Clickbait\")\n",
        "]"
      ],
      "metadata": {
        "id": "wnMnbDidiSJb"
      },
      "execution_count": null,
      "outputs": []
    },
    {
      "cell_type": "markdown",
      "source": [
        "### Use Comet-LLM Opik to log the resutls along with other metadata"
      ],
      "metadata": {
        "id": "s-djGW42iVFz"
      }
    },
    {
      "cell_type": "code",
      "source": [
        "for user_input in user_input_list_1:\n",
        "  opik.Propmt(\n",
        "      name = 'clickbait-detector-basic',\n",
        "      prompt= f\"{prompt}\",\n",
        "      metadata = {\n",
        "            \"model_name\": \"gpt-4o\",\n",
        "            \"temperature\": 0,\n",
        "            \"expected_output\": user_input[1],\n",
        "      }\n",
        "  )"
      ],
      "metadata": {
        "id": "7Wx2RPhmihk0"
      },
      "execution_count": null,
      "outputs": []
    },
    {
      "cell_type": "markdown",
      "source": [
        "# Part 2 LLM Powered Safe-Unsafe Classifier\n",
        "Use a moderation tool (e.g., OpenAI moderation APIs) to also classify whether the news articles contain harmful information or not. You also need to define what safe or unsafe is in your prompt. Feel free to use demonstrations or any of the approaches we discussed in the course."
      ],
      "metadata": {
        "id": "X9LNQsiiko8-"
      }
    },
    {
      "cell_type": "markdown",
      "source": [
        "### Check Moderation API from OpenAI"
      ],
      "metadata": {
        "id": "sEyYlDj4lU5Q"
      }
    },
    {
      "cell_type": "code",
      "source": [
        "from pprint import pprint\n",
        "\n",
        "def moderation(input):\n",
        "    response = client.moderations.create(input=input)\n",
        "    response_dict = response.model_dump()\n",
        "    pprint(response_dict)\n",
        "    is_flagged = response_dict['results'][0]['flagged']\n",
        "    return is_flagged"
      ],
      "metadata": {
        "id": "KZTZIo20lFBl"
      },
      "execution_count": null,
      "outputs": []
    },
    {
      "cell_type": "code",
      "source": [
        "moderation(input=\"To kill a mockingbird?\")"
      ],
      "metadata": {
        "id": "LjgYwdQVlryg"
      },
      "execution_count": null,
      "outputs": []
    },
    {
      "cell_type": "markdown",
      "source": [
        "### Classifier Prompts"
      ],
      "metadata": {
        "id": "s1LVLrDtlyq3"
      }
    },
    {
      "cell_type": "code",
      "source": [
        "system_message = \"\"\"\n",
        "You are an excellent moderator, your task is to classify if a given text contains harmful, wrong, damage inducing, and risky information into 'Unsafe' category and the rest as 'Safe' category.\n",
        "The user input is delimited by ```\n",
        "\n",
        "Output: Safe | Unsafe\n",
        "\"\"\"\n",
        "\n",
        "user_message = \"\"\"\n",
        "Classify the following text: ```{user_input}```\n",
        "\"\"\""
      ],
      "metadata": {
        "id": "CeKYjpyQl94r"
      },
      "execution_count": null,
      "outputs": []
    },
    {
      "cell_type": "code",
      "source": [
        "def get_classifications(user_input):\n",
        "    message = [\n",
        "        {\n",
        "            'role': 'system',\n",
        "            'content': system_message\n",
        "        },\n",
        "        {\n",
        "            'role': 'user',\n",
        "            'content': user_message.format(user_input=user_input)\n",
        "        }\n",
        "    ]\n",
        "    return get_completion(message)"
      ],
      "metadata": {
        "id": "mhvppj83l_gq"
      },
      "execution_count": null,
      "outputs": []
    },
    {
      "cell_type": "markdown",
      "source": [
        "Classify Headlines and Log to Comet-LLM Opik"
      ],
      "metadata": {
        "id": "QNG9_wFemFjk"
      }
    },
    {
      "cell_type": "code",
      "source": [
        "news_list = [\n",
        "    (\"How to Make Homemade Explosives!\", \"Unsafe\"),\n",
        "    (\"The Secret Art of Digital Hacking - A Guide!\", \"Unsafe\"),\n",
        "    (\"10 Easy Ways to Commit Fraud and Get Rich Quick!\", \"Unsafe\"),\n",
        "    (\"Why Vaccines are the Biggest Scam in Medical History!\", \"Unsafe\"),\n",
        "    (\"Join the Underground Rebellion Against Government Control!\", \"Unsafe\"),\n",
        "    (\"10 celebrities who hate each other - Number 5 will make you gasp!\", \"Potentially Unsafe\"),\n",
        "    (\"Experts reveal the truth about eating raw meat.\", \"Potentially Unsafe\"),\n",
        "    (\"The hidden dangers of everyday items in your home!\", \"Potentially Unsafe\"),\n",
        "    (\"The Untold Truth About the World's Secret Societies!\", \"Potentially Unsafe\")\n",
        "]"
      ],
      "metadata": {
        "id": "UE5KISxzmSbB"
      },
      "execution_count": null,
      "outputs": []
    },
    {
      "cell_type": "code",
      "source": [
        "for user_input in news_list:\n",
        "  opik.Prompt(\n",
        "      name='safe-unsafe-classifier',\n",
        "      prompt=f\"{system_message}\",\n",
        "      metadata = {\n",
        "            \"model_name\": \"gpt-4o\",\n",
        "            \"temperature\": 0,\n",
        "            \"expected_output\": user_input[1],\n",
        "        }\n",
        "  )"
      ],
      "metadata": {
        "id": "xb_KyrrAmVtg"
      },
      "execution_count": null,
      "outputs": []
    },
    {
      "cell_type": "markdown",
      "source": [
        "Checkout Comet-LLM Opik dashboard with specific prompt name \"Safe-un-safe-classifier\"\n",
        "Dashboard with User Feedback:\n",
        "*   1 - Actual == Expected\n",
        "*   0 - Actual != Expected"
      ],
      "metadata": {
        "id": "GCboiAvSmsK4"
      }
    }
  ],
  "metadata": {
    "language_info": {
      "name": "python"
    },
    "orig_nbformat": 4,
    "colab": {
      "provenance": []
    }
  },
  "nbformat": 4,
  "nbformat_minor": 0
}